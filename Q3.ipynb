{
 "cells": [
  {
   "cell_type": "markdown",
   "id": "d17a5ab8",
   "metadata": {},
   "source": [
    "## Import libraries"
   ]
  },
  {
   "cell_type": "code",
   "execution_count": 725,
   "id": "bc1acce7",
   "metadata": {},
   "outputs": [],
   "source": [
    "import numpy as np \n",
    "import pandas as pd\n",
    "import matplotlib.pyplot as plt \n",
    "from scipy import stats"
   ]
  },
  {
   "cell_type": "markdown",
   "id": "dc8774f1",
   "metadata": {},
   "source": [
    "## Data preprocessing"
   ]
  },
  {
   "cell_type": "code",
   "execution_count": 726,
   "id": "d78c9ca0",
   "metadata": {},
   "outputs": [],
   "source": [
    "# Load data\n",
    "factors = pd.read_csv('datasets/covid-state-data-agg/COVID19_state.csv')\n",
    "covid_cases = pd.read_csv('datasets/covid-cases-data/United_States_COVID-19_Cases_and_Deaths_by_State_over_Time.csv')\n",
    "state_trips = pd.read_csv('datasets/bts-travel-data/State_trips.csv')\n",
    "state_code_map = pd.read_csv('datasets/BlueRedStates.csv').drop(columns=['BlueRed'])"
   ]
  },
  {
   "cell_type": "code",
   "execution_count": 727,
   "id": "6cbda0fa",
   "metadata": {},
   "outputs": [],
   "source": [
    "# Helper functions \n",
    "\n",
    "# This function converts the date column into a datetime object\n",
    "# and filter by specified year\n",
    "def filterByYear(df, date_col, year):\n",
    "    df[date_col] = pd.to_datetime(df[date_col], infer_datetime_format=True)\n",
    "    return df[df[date_col].dt.strftime('%Y') == year]"
   ]
  },
  {
   "cell_type": "markdown",
   "id": "e0fc7700",
   "metadata": {},
   "source": [
    "#### Covid cases data"
   ]
  },
  {
   "cell_type": "code",
   "execution_count": 728,
   "id": "9e10d702",
   "metadata": {},
   "outputs": [],
   "source": [
    "covid_cases_cols = ['submission_date', 'state', 'new_case', 'tot_cases']\n",
    "covid_cases = covid_cases[covid_cases_cols]\n",
    "covid_cases = filterByYear(covid_cases, 'submission_date', '2020')\n",
    "\n",
    "# merge NY and NYC data\n",
    "cases_indexed = covid_cases.groupby(['submission_date','state']).sum()\n",
    "\n",
    "indexes = cases_indexed.index\n",
    "date_index = np.unique(np.array([ind[0] for ind in indexes]))\n",
    "\n",
    "for date_ind in date_index: \n",
    "    cases_indexed.loc[date_ind, 'NY'] = cases_indexed.loc[date_ind, 'NY'] + cases_indexed.loc[date_ind, 'NYC']\n",
    "    \n",
    "cases_indexed.reset_index(inplace=True, level=['submission_date', 'state'])\n",
    "\n",
    "new_cases = cases_indexed"
   ]
  },
  {
   "cell_type": "markdown",
   "id": "f703491c",
   "metadata": {},
   "source": [
    "#### Trips data"
   ]
  },
  {
   "cell_type": "code",
   "execution_count": 729,
   "id": "504fb3d7",
   "metadata": {},
   "outputs": [],
   "source": [
    "# state trips data \n",
    "state_trips_col = ['Date', \n",
    "                   'State Postal Code', \n",
    "                   'Number of Trips', \n",
    "                   'Number of Trips 5-10', \n",
    "                   'Number of Trips 25-50', \n",
    "                   'Number of Trips 100-250', \n",
    "                   'Number of Trips 250-500']\n",
    "state_trips = state_trips[state_trips_col]\n",
    "state_trips = filterByYear(state_trips, 'Date', '2020')"
   ]
  },
  {
   "cell_type": "markdown",
   "id": "d47e0f1d",
   "metadata": {},
   "source": [
    "#### Population data"
   ]
  },
  {
   "cell_type": "code",
   "execution_count": 730,
   "id": "47e911f9",
   "metadata": {},
   "outputs": [],
   "source": [
    "# get population by state\n",
    "factors = factors[['State', 'Population']]\n",
    "pop_by_state = state_code_map.merge(factors, left_on='stateName', right_on='State')\\\n",
    "    .drop(columns=['stateName', 'State'])\\\n",
    "    .rename(columns={'stateCode' : 'state'})"
   ]
  },
  {
   "cell_type": "markdown",
   "id": "360100be",
   "metadata": {},
   "source": [
    "#### Join all data"
   ]
  },
  {
   "cell_type": "code",
   "execution_count": 731,
   "id": "50529b03",
   "metadata": {},
   "outputs": [],
   "source": [
    "# rename so the merge is valid\n",
    "new_cases.rename(columns={'submission_date' : 'date'}, inplace=True)\n",
    "state_trips.rename(columns={'Date' : 'date', 'State Postal Code' : 'state'}, inplace=True)\n",
    "\n",
    "# merge all dfs\n",
    "new_case_trips = new_cases.merge(state_trips, on=['date', 'state'], how='inner')\n",
    "final_data = new_case_trips.merge(pop_by_state, on='state', how='inner')\n",
    "final_data.replace(',','', regex=True, inplace=True)\n",
    "\n",
    "\n",
    "# normalize number of trips \n",
    "num_trips_cols = ['Number of Trips', 'Number of Trips 5-10', 'Number of Trips 25-50', 'Number of Trips 100-250', 'Number of Trips 250-500']\n",
    "for col in num_trips_cols:\n",
    "    final_data[col] = final_data[col].astype(float) / final_data['Population']\n",
    "\n",
    "# normalize num of new cases\n",
    "final_data['new_case_ratio'] = final_data['new_case']  / final_data['Population']\n",
    "final_data['tot_case_ratio'] = final_data['tot_cases']  / final_data['Population']"
   ]
  },
  {
   "cell_type": "markdown",
   "id": "f651b308",
   "metadata": {},
   "source": [
    "## Hypothesis testing"
   ]
  },
  {
   "cell_type": "code",
   "execution_count": 732,
   "id": "2cade145",
   "metadata": {},
   "outputs": [
    {
     "name": "stdout",
     "output_type": "stream",
     "text": [
      "median value: 1055.940446343205\n"
     ]
    }
   ],
   "source": [
    "# This function does median split based a given values in `sr`\n",
    "# and split `df` into two groups\n",
    "def medianSplitGroups(sr, df, col):\n",
    "    median = sr.median()\n",
    "    print(f\"median value: {median}\")\n",
    "    group1 = []\n",
    "    group2 = []\n",
    "\n",
    "    for i in range(len(sr)):\n",
    "        if sr[i] < median:\n",
    "            group1.append(sr.index[i])\n",
    "        else:\n",
    "            group2.append(sr.index[i])\n",
    "            \n",
    "    group1Df = df[df[col].isin(group1)]\n",
    "    group2Df = df[df[col].isin(group2)]\n",
    "            \n",
    "    # collapse the columns in each group into one column\n",
    "    return (group1Df, group2Df)\n",
    "\n",
    "# Find median of num trips in each state \n",
    "numTripsByState = final_data.groupby('state').sum()['Number of Trips']\n",
    "(lessTravelled, moreTravelled) = medianSplitGroups(numTripsByState, final_data, 'state')\n",
    "\n",
    "lessTravelledByState = lessTravelled.groupby('state').sum()['new_case_ratio'].reset_index()\n",
    "moreTravelledByState = moreTravelled.groupby('state').sum()['new_case_ratio'].reset_index()"
   ]
  },
  {
   "cell_type": "code",
   "execution_count": 735,
   "id": "4c740b5d",
   "metadata": {},
   "outputs": [
    {
     "data": {
      "image/png": "[encoded data removed]",
      "text/plain": [
       "<Figure size 432x288 with 1 Axes>"
      ]
     },
     "metadata": {
      "needs_background": "light"
     },
     "output_type": "display_data"
    }
   ],
   "source": [
    "fig = plt.figure(1)\n",
    "ax = fig.add_axes([0,0,1,1])\n",
    "ax.bar(lessTravelledByState['state'], lessTravelledByState['new_case_ratio'], color='c')\n",
    "plt.title('Figure 10: Less travelled state')\n",
    "plt.xlabel('Less travelled state')\n",
    "plt.ylabel('Case per population')\n",
    "plt.show()"
   ]
  },
  {
   "cell_type": "code",
   "execution_count": 736,
   "id": "91281397",
   "metadata": {},
   "outputs": [
    {
     "data": {
      "image/png": "[encoded data removed]",
      "text/plain": [
       "<Figure size 432x288 with 1 Axes>"
      ]
     },
     "metadata": {
      "needs_background": "light"
     },
     "output_type": "display_data"
    }
   ],
   "source": [
    "fig = plt.figure(1)\n",
    "ax = fig.add_axes([0,0,1,1])\n",
    "ax.bar(moreTravelledByState['state'], moreTravelledByState['new_case_ratio'], color='m')\n",
    "plt.title('Figure 11: More travelled state')\n",
    "plt.xlabel('More travelled state')\n",
    "plt.ylabel('Case per population')\n",
    "plt.show()"
   ]
  },
  {
   "cell_type": "code",
   "execution_count": 43,
   "id": "2ee5d2e0",
   "metadata": {},
   "outputs": [
    {
     "data": {
      "text/plain": [
       "Ttest_indResult(statistic=1.9745353618821533, pvalue=0.024168413093197377)"
      ]
     },
     "execution_count": 43,
     "metadata": {},
     "output_type": "execute_result"
    }
   ],
   "source": [
    "# Run an independent t-test\n",
    "stats.ttest_ind(moreTravelled['new_case_ratio'], lessTravelled['new_case_ratio'], alternative='greater')"
   ]
  }
 ],
 "metadata": {
  "kernelspec": {
   "display_name": "Python 3",
   "language": "python",
   "name": "python3"
  },
  "language_info": {
   "codemirror_mode": {
    "name": "ipython",
    "version": 3
   },
   "file_extension": ".py",
   "mimetype": "text/x-python",
   "name": "python",
   "nbconvert_exporter": "python",
   "pygments_lexer": "ipython3",
   "version": "3.8.8"
  }
 },
 "nbformat": 4,
 "nbformat_minor": 5
}
